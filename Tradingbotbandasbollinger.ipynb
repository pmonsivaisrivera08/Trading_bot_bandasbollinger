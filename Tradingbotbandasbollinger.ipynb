{
 "cells": [
  {
   "cell_type": "code",
   "execution_count": 2,
   "id": "48400955-0079-4088-be02-5b0f37892bb5",
   "metadata": {},
   "outputs": [],
   "source": [
    "from binance.client import Client\n",
    "from binance.enums import *\n",
    "import pandas as pd"
   ]
  },
  {
   "cell_type": "code",
   "execution_count": 44,
   "id": "d7e442a4-a05a-4ac6-9c78-d9fc0aa423b3",
   "metadata": {},
   "outputs": [],
   "source": [
    "API_KEY = \"\"\n",
    "API_SECRET = \"\""
   ]
  },
  {
   "cell_type": "code",
   "execution_count": 4,
   "id": "440ec670-fd17-4451-a8cc-1d2117db0744",
   "metadata": {},
   "outputs": [],
   "source": [
    "client = Client(API_KEY,API_SECRET, tld = 'com')"
   ]
  },
  {
   "cell_type": "code",
   "execution_count": 5,
   "id": "b3c612fb-ecd7-4a15-ba66-69b2174dba73",
   "metadata": {},
   "outputs": [],
   "source": [
    "def obtener_todos_los_tickers_binance():\n",
    "    lista_tickers = client.get_all_tickers()\n",
    "    \n",
    "    for ticker in lista_tickers:\n",
    "        symbol = ticker['symbol']\n",
    "        price = ticker['price']\n",
    "    \n",
    "        print(\"Simbolo: \" + symbol + \"Precio:\" + price)"
   ]
  },
  {
   "cell_type": "code",
   "execution_count": 6,
   "id": "5603cb01-f6f8-4a6e-b286-ff9b680a48d5",
   "metadata": {},
   "outputs": [],
   "source": [
    "def SMA_INTERVALO_1HS(periodo,ticker):\n",
    "    lista_precios_cierre = []\n",
    "    \n",
    "    data_historical = client.get_historical_klines(ticker,Client.KLINE_INTERVAL_1HOUR,'250 hour ago UTC')\n",
    "    \n",
    "    print(\"cantidad de velas: \",len(data_historical))\n",
    "    \n",
    "    sumatoria = 0\n",
    "    \n",
    "    if len(data_historical) == 250:\n",
    "    \n",
    "        print(\"se obtuvieron los datos correctamente\")\n",
    "    \n",
    "        for i in range((250 - periodo), 250):\n",
    "            #print(data_historical[i])\n",
    "        \n",
    "            sumatoria += float(data_historical[i][4])\n",
    "    \n",
    "        sma=sumatoria/periodo\n",
    "        print(\"SMA: \" + ticker + \" Periodo:\" + str(periodo) + \":\" + str(sma))\n",
    "        return(sma)\n",
    "\n",
    "    else:\n",
    "        print(\"no se pudo obtener el historial de velas\")"
   ]
  },
  {
   "cell_type": "code",
   "execution_count": 36,
   "id": "3a39dd44-9ab3-40ae-8373-f2a4c372f9e9",
   "metadata": {},
   "outputs": [],
   "source": [
    "#sma4 = SMA_INTERVALO_1HS(4,'BTCUSDT')"
   ]
  },
  {
   "cell_type": "code",
   "execution_count": 37,
   "id": "474af757-8d88-4f99-90e9-b3711da29367",
   "metadata": {},
   "outputs": [],
   "source": [
    "#sma9 = SMA_INTERVALO_1HS(9,'BTCUSDT')"
   ]
  },
  {
   "cell_type": "code",
   "execution_count": 38,
   "id": "02813517-8f8a-4cca-be2f-88a3397ba11f",
   "metadata": {},
   "outputs": [],
   "source": [
    "#sma18 = SMA_INTERVALO_1HS(18,'BTCUSDT')"
   ]
  },
  {
   "cell_type": "code",
   "execution_count": 15,
   "id": "522a78a8-6fd0-4498-b07e-c1c46d91a69c",
   "metadata": {},
   "outputs": [],
   "source": [
    "#if sma4 > sma9 and sma4 > sma18:\n",
    "    #print(\"se esta cumpliendo la estrategia triple cruce SMA 4 9 18\")\n",
    "#else:\n",
    "    #print(\"no se esta cumpliendo la estrategia triple cruce SMA 4 9 18\")"
   ]
  },
  {
   "cell_type": "code",
   "execution_count": 7,
   "id": "70a516a7-38c5-4897-b9b0-25075acb6994",
   "metadata": {},
   "outputs": [],
   "source": [
    "def EMA_INTERVALO_1HS(periodo,ticker):\n",
    "    \n",
    "    lista_precios_cierre = []\n",
    "    ema = []\n",
    "    \n",
    "    data_historical = client.get_historical_klines(ticker,Client.KLINE_INTERVAL_1HOUR,'250 hour ago UTC')\n",
    "    \n",
    "    print(\"cantidad de velas:\", len(data_historical))\n",
    "    \n",
    "    sma = SMA_INTERVALO_1HS(periodo,ticker)\n",
    "    ema.append(sma)\n",
    "    print(\"primer valor emas:\", ema)\n",
    "    \n",
    "    if len(data_historical) == 250:\n",
    "        print(\"se obtuvieron los datos correctamente\")\n",
    "        \n",
    "        for i in range(len(data_historical)):\n",
    "            lista_precios_cierre.append(float(data_historical[i][4]))\n",
    "        \n",
    "        #print(\"cantidad de velas para periodo:\", len(lista_precios_cierre[periodo:]))\n",
    "        for price in lista_precios_cierre[periodo:]:\n",
    "            ema.append( (price * (2/(periodo + 1 ) ) ) + ema[-1] * (1 -(2 / (periodo + 1) ) ) )\n",
    "        \n",
    "        #print(\"cantidad de elementos: \", len(ema))\n",
    "        #for i in ema:\n",
    "            #print(i)\n",
    "        \n",
    "        ema_valor = round(ema.pop(),3)\n",
    "        \n",
    "        print(\"EMA:\" + ticker + \" Periodo:\" + str(periodo) + \" : \" + str(ema_valor))\n",
    "        \n",
    "        return(ema_valor)\n",
    "    \n",
    "    else:\n",
    "        print(\"no se pudo obtener el historial de velas\")\n",
    "            \n",
    "\n"
   ]
  },
  {
   "cell_type": "code",
   "execution_count": 65,
   "id": "df300afa-057f-4e74-8927-e52a94fd9e25",
   "metadata": {},
   "outputs": [],
   "source": [
    "#Puedes cambiar el 10 por el período que desees y SOLUSDT por la criptomoneda que quieras de Binance.\n",
    "#You can change 10 to any period you want and SOLUSDT to any cryptocurrency you want from Binance."
   ]
  },
  {
   "cell_type": "code",
   "execution_count": 6,
   "id": "8dce4afa-7eab-42de-8d7d-84863b561fce",
   "metadata": {},
   "outputs": [],
   "source": [
    "#ema10 = EMA_INTERVALO_1HS(10,'SOLUSDT')"
   ]
  },
  {
   "cell_type": "code",
   "execution_count": 7,
   "id": "ddefcf14-c2b7-48c1-90c0-72cc43e84f04",
   "metadata": {},
   "outputs": [],
   "source": [
    "#ema20 = EMA_INTERVALO_1HS(20,'SOLUSDT')"
   ]
  },
  {
   "cell_type": "code",
   "execution_count": 8,
   "id": "12895bc2-2160-455d-9780-861950f3aa88",
   "metadata": {},
   "outputs": [],
   "source": [
    "#ema30 = EMA_INTERVALO_1HS(30,'SOLUSDT')"
   ]
  },
  {
   "cell_type": "code",
   "execution_count": 73,
   "id": "e186debd-0508-407d-92df-d0358c5f82d8",
   "metadata": {},
   "outputs": [],
   "source": [
    "#Estrategia Triple Cruce con ema\n",
    "#Triple EMA Crossover"
   ]
  },
  {
   "cell_type": "code",
   "execution_count": 10,
   "id": "b67ed2f9-e6ef-4622-9ef1-5110cf70c53e",
   "metadata": {},
   "outputs": [],
   "source": [
    "#if ema10 > ema20 and ema10 > ema30:\n",
    "    #print(\"se esta cumpliendo la estrategia triple cruce EMA 10 20 30\")\n",
    "#else:\n",
    "    #print(\"no se esta cumpliendo la estrategia triple cruce EMA 10 20 30\")"
   ]
  },
  {
   "cell_type": "code",
   "execution_count": 3,
   "id": "f3750046-45c1-487a-adc9-7eee88073c29",
   "metadata": {},
   "outputs": [],
   "source": [
    "#Calculo RSI grafico 1 hora, dado periodo y ticker\n",
    "#RSI calculation for 1-hour chart, given period and ticker"
   ]
  },
  {
   "cell_type": "code",
   "execution_count": 8,
   "id": "dc482d2a-548b-4ca6-8b33-395538b3bc0c",
   "metadata": {},
   "outputs": [],
   "source": [
    "def RSI_INTERVALO_1HS(periodo,ticker):\n",
    "    lista_precios_cierre = []\n",
    "    data_historical = client.get_historical_klines(ticker,Client.KLINE_INTERVAL_1HOUR,'250 hour ago UTC')\n",
    "    \n",
    "    #print(\"Cantidad de velas: \",len(data_historical))\n",
    "    \n",
    "    if len(data_historical) ==250:\n",
    "        print(\"se obtuvieron los datos correctamente\")\n",
    "        \n",
    "        for i in range(len(data_historical)):\n",
    "            lista_precios_cierre.append(float(data_historical[i][4]))\n",
    "        \n",
    "        dic_lpc = {\"precios_cierre\": lista_precios_cierre}\n",
    "        \n",
    "        dataFrame = pd.DataFrame(dic_lpc)\n",
    "        \n",
    "        #print(dataFrame)\n",
    "        \n",
    "        diferencia = dataFrame[\"precios_cierre\"].diff(1)\n",
    "        #print(diferencia)\n",
    "        \n",
    "        positivos = diferencia.copy()\n",
    "        negativos = diferencia.copy()\n",
    "        \n",
    "        positivos[positivos<0] = 0\n",
    "        negativos[negativos>0] = 0\n",
    "        \n",
    "        #print(positivos)\n",
    "        #print(negativos)\n",
    "        \n",
    "        ema_positivos = positivos.ewm(com = (periodo-1), adjust = False).mean()\n",
    "        ema_negativos = abs(negativos.ewm(com = (periodo-1), adjust = False).mean())\n",
    "        \n",
    "        rs = ema_positivos/ ema_negativos\n",
    "        \n",
    "        rsi = 100 - (100/(rs+1))\n",
    "        #print(rsi)\n",
    "        rsi_valor = round(rsi.iloc[-1],2)\n",
    "        \n",
    "        print(\"RSI: \", rsi_valor)\n",
    "        \n",
    "        return rsi_valor\n",
    "                        \n",
    "        \n",
    "           \n",
    "    else:\n",
    "        print(\"no se obtuvieron los datos correctamente\")"
   ]
  },
  {
   "cell_type": "code",
   "execution_count": null,
   "id": "d62bb329-0a03-444b-8ad8-3a09a2c6acaa",
   "metadata": {},
   "outputs": [],
   "source": [
    "#Estrategia RSI\n",
    "#RSI"
   ]
  },
  {
   "cell_type": "code",
   "execution_count": 1,
   "id": "e0d005a4-f207-447f-b15f-555fbc5e9aa1",
   "metadata": {},
   "outputs": [],
   "source": [
    "#rsi = RSI_INTERVALO_1HS(14,'SOLUSDT')\n",
    "#if rsi < 30:\n",
    "    #print(\"rsi menor a 30 sobreventa, alerta de COMPRA\")\n",
    "#if rsi > 70:\n",
    "    #print(\"rsi mayor a 70 sobrecompra, alerta de VENTA\")"
   ]
  },
  {
   "cell_type": "code",
   "execution_count": null,
   "id": "f61f1de9-50a7-4647-a40b-811ffd6d4824",
   "metadata": {},
   "outputs": [],
   "source": [
    "#________________________Crear dataframe\n",
    "#Create Dataframe"
   ]
  },
  {
   "cell_type": "code",
   "execution_count": 9,
   "id": "b32f9cc3-12a6-4ac9-8069-87411675d9c9",
   "metadata": {},
   "outputs": [],
   "source": [
    "def crearDataframe(ticker):\n",
    "    lista_precios_cierre = []\n",
    "    data_historical = client.get_historical_klines(ticker,Client.KLINE_INTERVAL_1HOUR,'250 hour ago UTC')\n",
    "    \n",
    "    if len(data_historical) == 250:\n",
    "        print(\"se obtuvieron los datos correctamente\")\n",
    "        \n",
    "        for i in range(len(data_historical)):\n",
    "            lista_precios_cierre.append(float(data_historical[i][4]))\n",
    "        \n",
    "        dic_lpc = {\"precios_cierre\":lista_precios_cierre}\n",
    "        \n",
    "        dataFrame = pd.DataFrame(dic_lpc)\n",
    "        \n",
    "        return True,dataFrame\n",
    "    else:\n",
    "        print(\"No se obtuvieron los datos correctamente\")\n",
    "        return False, None"
   ]
  },
  {
   "cell_type": "code",
   "execution_count": 10,
   "id": "b2fab401-8c82-42d4-b5e5-bdd61c067141",
   "metadata": {},
   "outputs": [
    {
     "name": "stdout",
     "output_type": "stream",
     "text": [
      "se obtuvieron los datos correctamente\n"
     ]
    }
   ],
   "source": [
    "re, df = crearDataframe(\"BTCUSDT\")"
   ]
  },
  {
   "cell_type": "code",
   "execution_count": 11,
   "id": "a0eef6dd-79b6-405c-8ffa-c0bdb78f4128",
   "metadata": {},
   "outputs": [
    {
     "name": "stdout",
     "output_type": "stream",
     "text": [
      "     precios_cierre\n",
      "0         116670.22\n",
      "1         116634.91\n",
      "2         116535.69\n",
      "3         116778.07\n",
      "4         116524.09\n",
      "..              ...\n",
      "245       113174.42\n",
      "246       112872.94\n",
      "247       113215.50\n",
      "248       112996.93\n",
      "249       113309.03\n",
      "\n",
      "[250 rows x 1 columns]\n"
     ]
    }
   ],
   "source": [
    "print(df)"
   ]
  },
  {
   "cell_type": "code",
   "execution_count": null,
   "id": "255131aa-194d-4512-9e21-f0fd28327fd4",
   "metadata": {},
   "outputs": [],
   "source": [
    "#MACD a partir de los periodos 1 y2, y signal a partir de la periodo 3"
   ]
  },
  {
   "cell_type": "code",
   "execution_count": 12,
   "id": "97d2693b-b458-4476-8555-e782ba15ff6f",
   "metadata": {},
   "outputs": [],
   "source": [
    "def MACD_INTERVALO_1HS(periodo1,periodo2,periodo3,ticker):\n",
    "    \n",
    "    resultado, dataframe = crearDataframe(ticker)\n",
    "    \n",
    "    if resultado == True:\n",
    "        \n",
    "        #Calculo MACD\n",
    "        \n",
    "        exp1 = dataframe.ewm(span=periodo1, adjust=False).mean()\n",
    "        exp2 = dataframe.ewm(span=periodo2, adjust=False).mean()\n",
    "        \n",
    "        macd = exp1 - exp2\n",
    "        \n",
    "        print(macd)\n",
    "        #calculo signal\n",
    "        \n",
    "        signal = macd.ewm(span=periodo3, adjust=False).mean()\n",
    "        print(signal)\n",
    "        \n",
    "        macd_valor = round(macd.loc[249,\"precios_cierre\"],4)\n",
    "        signal_valor = round(signal.loc[249,\"precios_cierre\"],4)\n",
    "        \n",
    "        print(\"MACD: \", macd_valor)\n",
    "        print(\"SIGNAL:\", signal_valor)\n",
    "        \n",
    "        return macd_valor,signal_valor\n",
    "    \n",
    "    else:\n",
    "        print(\"no se pudieron obtener los datos\")\n",
    "        \n",
    "        return None,None"
   ]
  },
  {
   "cell_type": "code",
   "execution_count": 23,
   "id": "41c3cd89-a1c4-4cc8-b5a4-3923c1735dc5",
   "metadata": {},
   "outputs": [],
   "source": [
    "#La primera fila es el número del medio del MACD en TradingView, y la segunda fila es el tercer número en TradingView.\n",
    "#The first row is the middle number of the MACD on TradingView, and the second row is the third number on TradingView."
   ]
  },
  {
   "cell_type": "code",
   "execution_count": null,
   "id": "81cc0681-e029-4a81-ac71-79a2bf871290",
   "metadata": {},
   "outputs": [],
   "source": [
    "#ESTRATEGIA MACD"
   ]
  },
  {
   "cell_type": "code",
   "execution_count": 1,
   "id": "dae3fc37-89bd-4072-9e14-4b29a0e36178",
   "metadata": {},
   "outputs": [],
   "source": [
    "#macd, signal = MACD_INTERVALO_1HS(12,26,9,\"SOLUSDT\")\n",
    "\n",
    "#if macd != None and signal != None:\n",
    "    #verificamos estrategia\n",
    "    #if macd > signal:\n",
    "        #print(\"MACD POR ENSIMA DE SIGNAL - POSIBLE MOV. ALCISTA\")\n",
    "    #else:\n",
    "        #print(\"MACD POR DEBAJO DE SIGNAL - POSIBLE MOV. BAJISTA\")\n",
    "#else:\n",
    "    #print(\"No se pudo verificar la estrategia\")"
   ]
  },
  {
   "cell_type": "code",
   "execution_count": 37,
   "id": "1d15dba9-9d80-44bd-9adf-38aac138812e",
   "metadata": {},
   "outputs": [],
   "source": [
    "#INDICADOR TECNICO BANDAS BOLLINGER --------> valores de precio de cierre, banda superior, banda media y banda inferior"
   ]
  },
  {
   "cell_type": "code",
   "execution_count": 34,
   "id": "3b84a82f-cb72-47ca-b1e9-52fc0c3af74a",
   "metadata": {},
   "outputs": [],
   "source": [
    "def BANDASBOLLINGER_INTERVALO_1HS(periodo, desviacion_estandar, StdDev, ticker):\n",
    "    resultado, dataframe = crearDataframe(ticker)\n",
    "    if resultado == True:\n",
    "        #agregar columnas para SMA, desviacion estandar y las bandas superior e inferior\n",
    "        \n",
    "        dataframe['SMA'] = dataframe['precios_cierre'].rolling(periodo).mean()\n",
    "        dataframe['Std'] = dataframe['precios_cierre'].rolling(desviacion_estandar).std()\n",
    "        \n",
    "        #Calculo de bandas de bollinger\n",
    "        \n",
    "        dataframe['BSuperior'] = dataframe['SMA'] + (StdDev * dataframe['Std'])\n",
    "        dataframe['BInferior'] = dataframe['SMA'] - (StdDev * dataframe['Std'])\n",
    "        \n",
    "        #print(dataframe)\n",
    "\n",
    "        #retornar valores precio cierre, banda media, banda superior y banda inferior\n",
    "        precios_cierre = round(dataframe.loc[249, 'precios_cierre'], 4)\n",
    "        banda_superior = round(dataframe.loc[249, 'BSuperior'], 4)\n",
    "        banda_media = round(dataframe.loc[249, 'SMA'], 4)\n",
    "        banda_inferior = round(dataframe.loc[249, 'BInferior'], 4)\n",
    "        \n",
    "        print(\"precio cierre: \", precios_cierre)\n",
    "        print(\"banda superior: \", banda_superior)\n",
    "        print(\"banda media: \", banda_media)\n",
    "        print(\"banda inferior: \", banda_inferior)\n",
    "\n",
    "        return precios_cierre, banda_superior, banda_media, banda_inferior\n",
    "    \n",
    "    else:\n",
    "        print(\"no se pudieron obtener los datos\")\n",
    "        "
   ]
  },
  {
   "cell_type": "code",
   "execution_count": 36,
   "id": "5ba7903d-3280-4231-88ac-43d07c497ede",
   "metadata": {},
   "outputs": [
    {
     "name": "stdout",
     "output_type": "stream",
     "text": [
      "se obtuvieron los datos correctamente\n",
      "precio cierre:  181.02\n",
      "banda superior:  183.3406\n",
      "banda media:  179.3895\n",
      "banda inferior:  175.4384\n"
     ]
    },
    {
     "data": {
      "text/plain": [
       "(181.02, 183.3406, 179.3895, 175.4384)"
      ]
     },
     "execution_count": 36,
     "metadata": {},
     "output_type": "execute_result"
    }
   ],
   "source": [
    "BANDASBOLLINGER_INTERVALO_1HS(20,20,2,\"SOLUSDT\")"
   ]
  },
  {
   "cell_type": "code",
   "execution_count": 38,
   "id": "926a8a98-c6cf-481b-876e-f784c2f16925",
   "metadata": {},
   "outputs": [],
   "source": [
    "#Estrategia con bandas de bollinger"
   ]
  },
  {
   "cell_type": "code",
   "execution_count": 43,
   "id": "30b9b5b3-dd51-4f2a-ba45-586b0cf69cea",
   "metadata": {},
   "outputs": [
    {
     "name": "stdout",
     "output_type": "stream",
     "text": [
      "se obtuvieron los datos correctamente\n",
      "precio cierre:  181.21\n",
      "banda superior:  183.3675\n",
      "banda media:  179.399\n",
      "banda inferior:  175.4305\n",
      "precio por arriba de la banda media - posible mov. ALCISTA\n"
     ]
    }
   ],
   "source": [
    "precios_cierre, banda_superior, banda_media, banda_inferior = BANDASBOLLINGER_INTERVALO_1HS(20,20,2,\"SOLUSDT\")\n",
    "\n",
    "if precios_cierre != None and banda_superior != None and banda_media != None and banda_inferior != None:\n",
    "    #verificamos estrategia\n",
    "    \n",
    "    #si el precio rompe hacia arriba la banda supeior\n",
    "    if precios_cierre > banda_superior:\n",
    "        print(\"precio por ensima de la banda supeior - posible mov. BAJISTA\")\n",
    "    #si el precio rompe hacia abajo la banda inferior\n",
    "    if precios_cierre < banda_inferior:\n",
    "        print(\"precio por debajo de la banda inferior - posible mov. ALCISTA\")\n",
    "    #si el precio rompe hacia arriba la banda media\n",
    "    if precios_cierre > banda_media:\n",
    "        print(\"precio por arriba de la banda media - posible mov. ALCISTA\")\n",
    "    #Si el precio rompe por debajo la banda media\n",
    "    if precios_cierre < banda_media:\n",
    "        print(\"precio por debajo de la banda media - posible mov. BAJISTA\")\n",
    "\n",
    "\n",
    "\n",
    "else:\n",
    "    print(\"No se pudo verificar la estrategia\")"
   ]
  }
 ],
 "metadata": {
  "kernelspec": {
   "display_name": "Python [conda env:base] *",
   "language": "python",
   "name": "conda-base-py"
  },
  "language_info": {
   "codemirror_mode": {
    "name": "ipython",
    "version": 3
   },
   "file_extension": ".py",
   "mimetype": "text/x-python",
   "name": "python",
   "nbconvert_exporter": "python",
   "pygments_lexer": "ipython3",
   "version": "3.12.7"
  }
 },
 "nbformat": 4,
 "nbformat_minor": 5
}
